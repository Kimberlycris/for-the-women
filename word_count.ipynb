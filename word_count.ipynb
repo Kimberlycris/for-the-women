{
 "cells": [
  {
   "cell_type": "code",
   "execution_count": null,
   "metadata": {},
   "outputs": [],
   "source": [
    "# perfect by Ed Sheeran"
   ]
  },
  {
   "cell_type": "code",
   "execution_count": 3,
   "metadata": {},
   "outputs": [],
   "source": [
    "lyrics = \"I found a love for me darling just dive right in and follow my lead well I found a girl beautiful and sweet I never knew you were the someone waiting for me because we were just kids when we fell in love not knowing what it was I will not give you up this time but darling, just kiss me slow, your heart is all I own and in your eyes you are holding mine baby, I am dancing in the dark with you between my arms barefoot on the grass, listening to our favorite song when you said you looked a mess, I whispered underneath my breath but you heard it, darling, you look perfect tonight well I found a woman, stronger than anyone I know she shares my dreams, I hope that someday I will share her home I found a love, to carry more than just my secrets to carry love, to carry children of our own we are still kids, but we are so in love fighting against all odds I know we will be alright this time darling, just hold my hand be my girl, I will be your man I see my future in your eyes baby, I am dancing in the dark, with you between my arms barefoot on the grass, listening to our favorite song when I saw you in that dress, looking so beautiful I don't deserve this, darling, you look perfect tonight baby, I am dancing in the dark, with you between my arms barefoot on the grass, listening to our favorite song I have faith in what I see now I know I have met an angel in person and she looks perfect I don't deserve this you look perfect tonight\""
   ]
  },
  {
   "cell_type": "code",
   "execution_count": 4,
   "metadata": {},
   "outputs": [
    {
     "name": "stdout",
     "output_type": "stream",
     "text": [
      "['I', 'found', 'a', 'love', 'for', 'me', 'darling', 'just', 'dive', 'right', 'in', 'and', 'follow', 'my', 'lead', 'well', 'I', 'found', 'a', 'girl', 'beautiful', 'and', 'sweet', 'I', 'never', 'knew', 'you', 'were', 'the', 'someone', 'waiting', 'for', 'me', 'because', 'we', 'were', 'just', 'kids', 'when', 'we', 'fell', 'in', 'love', 'not', 'knowing', 'what', 'it', 'was', 'I', 'will', 'not', 'give', 'you', 'up', 'this', 'time', 'but', 'darling,', 'just', 'kiss', 'me', 'slow,', 'your', 'heart', 'is', 'all', 'I', 'own', 'and', 'in', 'your', 'eyes', 'you', 'are', 'holding', 'mine', 'baby,', 'I', 'am', 'dancing', 'in', 'the', 'dark', 'with', 'you', 'between', 'my', 'arms', 'barefoot', 'on', 'the', 'grass,', 'listening', 'to', 'our', 'favorite', 'song', 'when', 'you', 'said', 'you', 'looked', 'a', 'mess,', 'I', 'whispered', 'underneath', 'my', 'breath', 'but', 'you', 'heard', 'it,', 'darling,', 'you', 'look', 'perfect', 'tonight', 'well', 'I', 'found', 'a', 'woman,', 'stronger', 'than', 'anyone', 'I', 'know', 'she', 'shares', 'my', 'dreams,', 'I', 'hope', 'that', 'someday', 'I', 'will', 'share', 'her', 'home', 'I', 'found', 'a', 'love,', 'to', 'carry', 'more', 'than', 'just', 'my', 'secrets', 'to', 'carry', 'love,', 'to', 'carry', 'children', 'of', 'our', 'own', 'we', 'are', 'still', 'kids,', 'but', 'we', 'are', 'so', 'in', 'love', 'fighting', 'against', 'all', 'odds', 'I', 'know', 'we', 'will', 'be', 'alright', 'this', 'time', 'darling,', 'just', 'hold', 'my', 'hand', 'be', 'my', 'girl,', 'I', 'will', 'be', 'your', 'man', 'I', 'see', 'my', 'future', 'in', 'your', 'eyes', 'baby,', 'I', 'am', 'dancing', 'in', 'the', 'dark,', 'with', 'you', 'between', 'my', 'arms', 'barefoot', 'on', 'the', 'grass,', 'listening', 'to', 'our', 'favorite', 'song', 'when', 'I', 'saw', 'you', 'in', 'that', 'dress,', 'looking', 'so', 'beautiful', 'I', \"don't\", 'deserve', 'this,', 'darling,', 'you', 'look', 'perfect', 'tonight', 'baby,', 'I', 'am', 'dancing', 'in', 'the', 'dark,', 'with', 'you', 'between', 'my', 'arms', 'barefoot', 'on', 'the', 'grass,', 'listening', 'to', 'our', 'favorite', 'song', 'I', 'have', 'faith', 'in', 'what', 'I', 'see', 'now', 'I', 'know', 'I', 'have', 'met', 'an', 'angel', 'in', 'person', 'and', 'she', 'looks', 'perfect', 'I', \"don't\", 'deserve', 'this', 'you', 'look', 'perfect', 'tonight']\n"
     ]
    }
   ],
   "source": [
    "split_lyrics = lyrics.split()\n",
    "print(split_lyrics)"
   ]
  },
  {
   "cell_type": "code",
   "execution_count": 5,
   "metadata": {},
   "outputs": [
    {
     "data": {
      "text/plain": [
       "293"
      ]
     },
     "execution_count": 5,
     "metadata": {},
     "output_type": "execute_result"
    }
   ],
   "source": [
    "len(split_lyrics)"
   ]
  },
  {
   "cell_type": "code",
   "execution_count": 6,
   "metadata": {},
   "outputs": [
    {
     "name": "stdout",
     "output_type": "stream",
     "text": [
      "{'see', 'knew', 'favorite', 'against', 'be', 'tonight', 'girl', \"don't\", 'darling', 'sweet', 'angel', 'grass,', 'dark,', 'said', 'met', 'give', 'children', 'are', 'person', 'breath', 'carry', 'future', 'listening', 'follow', 'secrets', 'man', 'right', 'looking', 'found', 'fell', 'our', 'more', 'share', 'it', 'dreams,', 'mess,', 'it,', 'now', 'dive', 'to', 'the', 'barefoot', 'saw', 'time', 'girl,', 'dress,', 'perfect', 'than', 'in', 'someday', 'faith', 'for', 'well', 'when', 'an', 'her', 'mine', 'between', 'with', 'you', 'woman,', 'on', 'me', 'stronger', 'this', 'am', 'kiss', 'have', 'arms', 'still', 'holding', 'home', 'fighting', 'just', 'know', 'shares', 'kids,', 'someone', 'knowing', 'your', 'of', 'all', 'look', 'lead', 'hope', 'hold', 'love', 'up', 'what', 'so', 'love,', 'baby,', 'never', 'hand', 'darling,', 'dancing', 'this,', 'slow,', 'heard', 'kids', 'beautiful', 'not', 'looks', 'I', 'waiting', 'was', 'anyone', 'eyes', 'dark', 'will', 'deserve', 'underneath', 'heart', 'because', 'but', 'my', 'whispered', 'looked', 'she', 'alright', 'song', 'own', 'and', 'a', 'is', 'that', 'we', 'were', 'odds'}\n"
     ]
    }
   ],
   "source": [
    "unique = set(split_lyrics)\n",
    "print(unique)"
   ]
  },
  {
   "cell_type": "code",
   "execution_count": 7,
   "metadata": {},
   "outputs": [
    {
     "data": {
      "text/plain": [
       "129"
      ]
     },
     "execution_count": 7,
     "metadata": {},
     "output_type": "execute_result"
    }
   ],
   "source": [
    "len(unique)"
   ]
  },
  {
   "cell_type": "code",
   "execution_count": 13,
   "metadata": {},
   "outputs": [],
   "source": [
    "from collections import Counter"
   ]
  },
  {
   "cell_type": "code",
   "execution_count": 14,
   "metadata": {},
   "outputs": [
    {
     "data": {
      "text/plain": [
       "Counter({'I': 24,\n",
       "         'found': 4,\n",
       "         'a': 5,\n",
       "         'love': 3,\n",
       "         'for': 2,\n",
       "         'me': 3,\n",
       "         'darling': 1,\n",
       "         'just': 5,\n",
       "         'dive': 1,\n",
       "         'right': 1,\n",
       "         'in': 11,\n",
       "         'and': 4,\n",
       "         'follow': 1,\n",
       "         'my': 10,\n",
       "         'lead': 1,\n",
       "         'well': 2,\n",
       "         'girl': 1,\n",
       "         'beautiful': 2,\n",
       "         'sweet': 1,\n",
       "         'never': 1,\n",
       "         'knew': 1,\n",
       "         'you': 13,\n",
       "         'were': 2,\n",
       "         'the': 7,\n",
       "         'someone': 1,\n",
       "         'waiting': 1,\n",
       "         'because': 1,\n",
       "         'we': 5,\n",
       "         'kids': 1,\n",
       "         'when': 3,\n",
       "         'fell': 1,\n",
       "         'not': 2,\n",
       "         'knowing': 1,\n",
       "         'what': 2,\n",
       "         'it': 1,\n",
       "         'was': 1,\n",
       "         'will': 4,\n",
       "         'give': 1,\n",
       "         'up': 1,\n",
       "         'this': 3,\n",
       "         'time': 2,\n",
       "         'but': 3,\n",
       "         'darling,': 4,\n",
       "         'kiss': 1,\n",
       "         'slow,': 1,\n",
       "         'your': 4,\n",
       "         'heart': 1,\n",
       "         'is': 1,\n",
       "         'all': 2,\n",
       "         'own': 2,\n",
       "         'eyes': 2,\n",
       "         'are': 3,\n",
       "         'holding': 1,\n",
       "         'mine': 1,\n",
       "         'baby,': 3,\n",
       "         'am': 3,\n",
       "         'dancing': 3,\n",
       "         'dark': 1,\n",
       "         'with': 3,\n",
       "         'between': 3,\n",
       "         'arms': 3,\n",
       "         'barefoot': 3,\n",
       "         'on': 3,\n",
       "         'grass,': 3,\n",
       "         'listening': 3,\n",
       "         'to': 6,\n",
       "         'our': 4,\n",
       "         'favorite': 3,\n",
       "         'song': 3,\n",
       "         'said': 1,\n",
       "         'looked': 1,\n",
       "         'mess,': 1,\n",
       "         'whispered': 1,\n",
       "         'underneath': 1,\n",
       "         'breath': 1,\n",
       "         'heard': 1,\n",
       "         'it,': 1,\n",
       "         'look': 3,\n",
       "         'perfect': 4,\n",
       "         'tonight': 3,\n",
       "         'woman,': 1,\n",
       "         'stronger': 1,\n",
       "         'than': 2,\n",
       "         'anyone': 1,\n",
       "         'know': 3,\n",
       "         'she': 2,\n",
       "         'shares': 1,\n",
       "         'dreams,': 1,\n",
       "         'hope': 1,\n",
       "         'that': 2,\n",
       "         'someday': 1,\n",
       "         'share': 1,\n",
       "         'her': 1,\n",
       "         'home': 1,\n",
       "         'love,': 2,\n",
       "         'carry': 3,\n",
       "         'more': 1,\n",
       "         'secrets': 1,\n",
       "         'children': 1,\n",
       "         'of': 1,\n",
       "         'still': 1,\n",
       "         'kids,': 1,\n",
       "         'so': 2,\n",
       "         'fighting': 1,\n",
       "         'against': 1,\n",
       "         'odds': 1,\n",
       "         'be': 3,\n",
       "         'alright': 1,\n",
       "         'hold': 1,\n",
       "         'hand': 1,\n",
       "         'girl,': 1,\n",
       "         'man': 1,\n",
       "         'see': 2,\n",
       "         'future': 1,\n",
       "         'dark,': 2,\n",
       "         'saw': 1,\n",
       "         'dress,': 1,\n",
       "         'looking': 1,\n",
       "         \"don't\": 2,\n",
       "         'deserve': 2,\n",
       "         'this,': 1,\n",
       "         'have': 2,\n",
       "         'faith': 1,\n",
       "         'now': 1,\n",
       "         'met': 1,\n",
       "         'an': 1,\n",
       "         'angel': 1,\n",
       "         'person': 1,\n",
       "         'looks': 1})"
      ]
     },
     "execution_count": 14,
     "metadata": {},
     "output_type": "execute_result"
    }
   ],
   "source": [
    "Counter(split_lyrics)"
   ]
  }
 ],
 "metadata": {
  "kernelspec": {
   "display_name": "Python 3",
   "language": "python",
   "name": "python3"
  },
  "language_info": {
   "codemirror_mode": {
    "name": "ipython",
    "version": 3
   },
   "file_extension": ".py",
   "mimetype": "text/x-python",
   "name": "python",
   "nbconvert_exporter": "python",
   "pygments_lexer": "ipython3",
   "version": "3.7.3"
  }
 },
 "nbformat": 4,
 "nbformat_minor": 2
}
